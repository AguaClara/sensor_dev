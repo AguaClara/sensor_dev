{
  "nbformat": 4,
  "nbformat_minor": 0,
  "metadata": {
    "colab": {
      "name": "FinalSensorDev2019Fall.ipynb",
      "provenance": [],
      "collapsed_sections": [],
      "include_colab_link": true
    },
    "kernelspec": {
      "name": "python3",
      "display_name": "Python 3"
    }
  },
  "cells": [
    {
      "cell_type": "markdown",
      "metadata": {
        "id": "view-in-github",
        "colab_type": "text"
      },
      "source": [
        "<a href=\"https://colab.research.google.com/github/AguaClara/sensor_dev/blob/master/FinalSensorDev2019Fall.ipynb\" target=\"_parent\"><img src=\"https://colab.research.google.com/assets/colab-badge.svg\" alt=\"Open In Colab\"/></a>"
      ]
    },
    {
      "cell_type": "markdown",
      "metadata": {
        "id": "awle31N5ykbr",
        "colab_type": "text"
      },
      "source": [
        "# Sensor Development, Fall 2019\n",
        "#### Sonu Kapoor, Saul Bernaber, Rishik Zaparde\n",
        "#### December 13, 2019\n",
        "\n"
      ]
    },
    {
      "cell_type": "markdown",
      "metadata": {
        "id": "lGzNCdLa1f38",
        "colab_type": "text"
      },
      "source": [
        "##Abstract\n",
        "Sensor Development's goal is to develop affordable sensors with readily available materials to monitor and report water quality in the water treatment processes in AguaClara plants and labs. In Fall 2019, the subteam worked on two different projects that were slight modifications from the previous semester. The subteam worked on a second prototype of the submersible Sludge Blanket Detector. Additionally, the subteam also started designing a low-cost turbidimeter that would measure the amount of dissolved organics as well as turbidity."
      ]
    },
    {
      "cell_type": "markdown",
      "metadata": {
        "id": "TpShT1NO1jsq",
        "colab_type": "text"
      },
      "source": [
        "## Introduction\n",
        "The Sensor Development subteam creates sensors that monitor and report water quality during the water treatment process in AguaClara plants. While turbidimeters exist in the market, they cost upwards of $2000 USD and are often complicated to use. This subteam strives to create affordable and user-friendly sensors with readily available and replaceable parts. The goal is to streamline the measurement process, ensuring that it is not only user-friendly but also accurate. These sensors quantify the effectiveness of the treatment process by measuring the turbidity of the water at different stages of the treatment process.\n",
        "\n",
        "The subteam started testing a prototype of the submersible Microcontroller-Interfaced Analog (MIA) sensor, which determines when the sludge blanket levels are rising. The ultimate goal for this sensor was to provide the plant operators with a cost-efficient and simple way to determine the height of the sludge blanket inside the floc hopper. This is critical to keep track of the rate at which the sludge blanket is rising. As a result, the floc hopper has to be emptied fewer times and plant operation becomes more efficient. The subteam also started working on a prototype of the low cost turbidity meter for dissolved organics. This project has two main parts - the infrared turbidity meter and the 450nm sensor. This project has been modified from last semester, where the plan was to use an ultraviolet 254nm light sensor. Switching to the 450nm light made this project more economical, as the apparatus required for the UV light sources is more expensive. The turbidimeter is different from the team’s past projects, as it would measure both reflectance and absorbance of the light passing through the water sample. The subteam used an infrared LED and measured the light received directly across and at 90° from the light source. This resulted in a more accurate analysis of water purity, as it accounted for the absorbance of light. The primary use of this sensor will be to measure the amount of dissolved organics in the water - simply measuring turbidity wouldn’t suffice as dissolved organic matter is not always visible.\n"
      ]
    },
    {
      "cell_type": "markdown",
      "metadata": {
        "id": "4gfgHIlZ2Evd",
        "colab_type": "text"
      },
      "source": [
        "## Literature Review and Previous Work\n",
        "In the Spring 2019 semester, the subteam continued work on the three projects from Fall 2018 - the Fluidized Bed Solids Detector (FBSD), the Mobile Application-Processed Endoscope (MAPE), and the Microcontroller-Interfaced Analog (MIA). The team tested the FBSD that was prototyped in Fall 2018 using 3D printing and embedded circuitry. The goal of this sensor was to provide the High Rate Sedimentation (HRS) team with a quick method of testing the concentration of clay particles within their testing parameters.  \n",
        "\n",
        "The team also developed a mobile application for the MAPE turbidity sensor. The MAPE turbidity sensor connects an endoscope to an Android smartphone and displays the live feed from the endoscope camera, using the light intensity from the images collected to determine the water turbidity.\n",
        "\n",
        "Additionally, the subteam also finished the first prototype of the MIA sensor, which determines when the sludge blanket levels are rising. This sensor housed an analog photodiode (a semiconductor that converts light to electrical current), an LED light source, and a microcontroller inside a portable case. Similar to the MAPE turbidity sensor, the MIA sensor measured the fluid turbidity using light intensity. However, this sensor detected light passing through the fluid using a photodiode, which is more reliable and less susceptible to noise. The microcontroller reads the data from the photosensor and converts it into turbidity values using a relation established through calibration testing. This sensor served as a prototype for a larger device that would function similarly to the MAPE turbidity sensor, providing treatment plant operators with affordable and user-friendly methods of determining fluid turbidity and sludge blanket height. The ultimate goal for the MAPE and MIA sensors was to provide the treatment plant operators with a cost-efficient and simple way to determine the height of the sludge blanket inside the floc hopper. This is critical to keep track of the rate at which the sludge blanket is rising.\n",
        "\n",
        "A new project was also started that semester, with a goal to build a low-cost turbidimeter with two main parts - the infrared turbidimeter and the 254 nm ultraviolet sensor. The infrared turbidimeter would measure both reflectance and absorbance of the light passing through the water sample by placing two sensors directly across and at 90° from the light source. Accounts for the absorbance of light would result in a more accurate analysis of water purity. The team began testing numerous infrared sources and sensors. In addition, the usefulness of the 254 nm light was researched - this wavelength can be used to measure the amount of organic matter in the water, as organic matter absorbs 254 nm wavelength light. \n",
        "\n",
        "In Fall 2019, the MAPE app was revisited due to problems surrounding controlling the aperture and exposure of the endoscope, which was interfering with turbidity readings. After looking through the UVCCamera library, it was determined that the MAPE app could no longer be pursued as a viable option. It appears that the code regulating the endoscope's aperture and exposure is embedded in the endoscope itself, which would mean that an external application (i.e. the MAPE app) would not be able to create consistent lighting conditions for turbidity readings."
      ]
    },
    {
      "cell_type": "markdown",
      "metadata": {
        "id": "a7POfNmj2Gr7",
        "colab_type": "text"
      },
      "source": [
        "##Fabrication Details\n",
        "\n",
        "Submersible Sensor\n",
        "\n",
        "The Sensor Development team has begun work on fabricating the Sludge Blanket Detector. The original design was theorized to have a few problems and so a few things were modified. The outer surface area was changed to be completely covered in its surroundings so that less light would reach the sensor. More specifically, in the original design, the sensor was surrounded by a clear case all around. This allowed for outside light to affect the readings of turbidity by the sensor. The modifications will allow for the light absorbed to be purely coming from the LED and not from reflected or refracted light from the surface. Another change is moving away from using cuvettes to seal the sensor and LED. First, we attempted to use PVC in combination with PVC cement. However, after several iterations of sealing, we were not able to waterproof the sensor because it had too many joints. We finally used a CAD model of the submersible case to 3D print it using clear resin. This material waterproofed the design and provided us with enough clarity to collect data. Additionally, the case was more robust, resilient, and fit within the design constraints we were given. Figure 1 shows a schematic of the old plans for the sensor. \n",
        "\n",
        "![Figure 1](https://raw.githubusercontent.com/AguaClara/sensor_dev/master/Fall%202019/submersible_model.jpg)\n",
        "\n",
        "**Figure 1** Last semester's prototype (*1 in width x 0.35in* thickness)\n",
        "\n",
        "![Figure 2](https://raw.githubusercontent.com/AguaClara/sensor_dev/master/Newmodelsub.jpg)\n",
        "**Figure 2** This semester's prototype(*7.85 in. squared*) *The gray area in the bottom view represents a difference in length of cylinder*\n",
        "\n",
        "###Dissolved Organics Sensor\n",
        "\n",
        "Two sample cell boxes were 3D printed in order to test and calibrate the IR and blue light sensors. The boxes are made to fit the test vials found in the lab, which are 2.4 inches tall and 1.1 inches wide. Each box has four holes on the sides to make room for the light sources and LEDs. \n",
        "\n",
        "\n",
        "Here are the OnShape drawings for the sample cells used for the [infrared light sensors](https://cad.onshape.com/documents/aa130432e7556607b41fe135/w/07cfc80e4182cd0f3d0bd61f/e/0c3e7c157f121cdd8fb2fe28)  and the [blue light sensors](https://cad.onshape.com/documents/631a7c3e36c4088565efe764/w/25cf07a2cb7f369d6c69d95d/e/752d210293abf875057a7a6a). These drawings were exported as .STL files and sent to the [Cornell Rapid Prototyping Lab](https://cornellrpl.wixsite.com/cornellrpl) to get 3D prints.\n",
        "\n",
        "![](https://raw.githubusercontent.com/AguaClara/sensor_dev/master/Fall%202019/SampleCellImages.png)\n",
        "Figure: Housing for the sample-cell turbidity meter, with space for light sources and sensors on sides. left to right: top cover for housing, housing for infrared sensor,  housing for blue light sensor.\n"
      ]
    },
    {
      "cell_type": "markdown",
      "metadata": {
        "id": "ToB7a10c8Ubg",
        "colab_type": "text"
      },
      "source": [
        "## Experimental Apparatus\n",
        "\n",
        "### Submersible Sensor\n",
        "![](https://raw.githubusercontent.com/AguaClara/sensor_dev/master/Fall%202019/submersibleTestingApparatus.png)\n",
        "\n",
        "Figure: Setup for Submersible sensor\n",
        "\n",
        "### Dissolved Organics Sensor\n",
        "Use the bottom two circuit diagrams to build circuits for the light source and sensor respectively. The exact values of the resistors are specified in the datasheet of the respective part (found in the special components section).\n",
        "\n",
        "![](https://raw.githubusercontent.com/AguaClara/sensor_dev/master/Fall%202019/LEDCircuit.png)\n",
        "\n",
        "Figure: LED Circuit\n",
        "\n",
        "![](https://raw.githubusercontent.com/AguaClara/sensor_dev/master/Fall%202019/PhototransistorDiagram.png)\n",
        "\n",
        "Figure: NPN Phototransistor for sensing infrared light.\n",
        "\n",
        "Use these two circuits with the sample cell box and a laptop connected to the arduino in order to measure data, as highlighted in the following section. \n"
      ]
    },
    {
      "cell_type": "markdown",
      "metadata": {
        "id": "14QXCacy8axM",
        "colab_type": "text"
      },
      "source": [
        "## Procedure\n",
        "\n",
        "### Submersible Sensor\n",
        "\n",
        "To test the submersible sensor, we dissolved kaolin clay in water with three different concentrations and then slowly lowered the submersible sensor into the water to read voltage over time. The concentrations we used were 112.3 g/L, 85.7 g/L, and 56.8 g/L of clay. We then graphed the voltage read in over milliseconds. We hypothesized that the data read in from the submersible would drop when the sludge blanket was encountered, allowing us to determine its location.\n",
        "\n",
        "### Dissolved Organics Sensor\n",
        "\n",
        "To measure the transmittance, insert the sensor on one side of the sample cell box and the LED on the opposite side, as shown in the figure below. Insert a vial with a water sample(clean or with soil). Then, connect the arduino to a laptop to display the analogRead() values. \n",
        "\n",
        "![](https://raw.githubusercontent.com/AguaClara/sensor_dev/master/Fall%202019/DOSensorSetup.jpg)\n",
        "\n",
        "Figure: Testing setup to measure the transmittance of the dissolved organics sensor. \n",
        "\n",
        "In order to measured scattered light, the sensor would be placed at a right angle from the source instead of directly across. A similar process can followed to measure the blue light data, using a blue LED and the RGB sensor listed in Special Components.\n",
        "\n"
      ]
    },
    {
      "cell_type": "markdown",
      "metadata": {
        "id": "_Nn9zXKc-Fjq",
        "colab_type": "text"
      },
      "source": [
        "## Results and Analysis\n",
        "\n",
        "### Submersible Sensor\n",
        "\n",
        "When we tested the submersible sensor and graphed the voltage read in relative to time as the submersible was lowered into the water, we found that there was a distinct drop off in voltage read in when the sludge blanket was encountered. In the 112.3 g/L and 85.7 g/L tests, the drop off occured at around 7500 ms and the voltage dropped significantly enough to determine the presence of the sludge blanket, which validated our hypothesis. In the 56.8 g/L test, the clay had not settled properly, which resulted in our sensor performing unpredictably. Still, the sensor performed as expected and we were able to detect the presence of a sludge blanket based on the data read collected by our testing. \n",
        "\n",
        "![](https://raw.githubusercontent.com/AguaClara/sensor_dev/master/Fall%202019/kaolinclayreadings.png)\n",
        "\n",
        "### Dissolved Organics Sensor\n",
        "\n",
        "Our expectation with this sensor was that the voltage reading will drop as turbidity increased. However, the readings had no discernable voltage drop with higher turbidity. \n",
        "\n"
      ]
    },
    {
      "cell_type": "markdown",
      "metadata": {
        "id": "Me12TWjY-Iys",
        "colab_type": "text"
      },
      "source": [
        "## Conclusions\n",
        "\n",
        "### Submersible Sensor\n",
        "Based on our results, the submersible sensor can detect the presence of a sludge blanket as long as the coagulant has had enough time to settle. This is evidenced by the distinct drop off in voltage read in at a specific point in the chart above. Beacause of this our submersible works as expected. This conclusion is important for AguaClara because it makes the operation of a plant more efficient, since, if the level of the sludge blanket can be determined, the operator has to empty it fewer times. \n",
        "\n",
        "### Dissolved Organics Sensor\n",
        "We came up with a few possible sources of error for the results observed. \n",
        "It is possible that the light from the source was being reflected within the sample, causing a higher reading. Another possible issue is the wide receiving range of the sensor, resulting in a higher reading. Some future action items were discussed to help itigate these problems.\n"
      ]
    },
    {
      "cell_type": "markdown",
      "metadata": {
        "id": "uQBlaQNP-VJA",
        "colab_type": "text"
      },
      "source": [
        "## Future Work\n",
        "\n",
        "\n",
        "### Submersible Sensor\n",
        "\n",
        "For the submersible sensor, we plan on testing further with an actual sludge blanket to set an appropriate voltage threshold for when a sludge blanket is present. We also plan to work on attatching our sensor to a pole to determine the exact distance of the sludge blanket from the top of the floc hopper. We want to create a set up for the plant operators, which doesn't require the need for a computer as well.\n",
        "\n",
        "### Dissolved Organics Sensor\n",
        "For the earlier mentioned soures of error, some action items were created:\n",
        "1. Light being reflected within the sample, causing a higher reading. In order to fix this, we need to print a black sample cell, and potentially 3D print another testing apparatus that would not require a vial. This way, any light refraction due to the vial itself will be eliminated.\n",
        "2. Wide receiving range of the sensor, resulting in a higher reading. We tested out all the infrared sensors and part number OP804SL has been observed to be sensitive to small angle changes. This sensor would need further testing in tandem with the modified sample cell apparatus."
      ]
    },
    {
      "cell_type": "markdown",
      "metadata": {
        "id": "ZXUik5SH-YFM",
        "colab_type": "text"
      },
      "source": [
        "## Bibliography\n",
        "\n",
        "Li, L., Lee, L., Vangavolu, S., Kapoor, S. (2018, December). Fall 2018 Manual. Retrieved from:\n",
        "https://github.com/AguaClara/sensor_dev/blob/master/Spring%202019/SensorDev-Spring-2019-Final-Report.md"
      ]
    },
    {
      "cell_type": "markdown",
      "metadata": {
        "id": "EvBA8kN4-dty",
        "colab_type": "text"
      },
      "source": [
        "# Manual\n",
        "The goal of this section is to provide all of the guidance that would be necessary for a future team to pick up your work where you left off. Please try to be thorough and put yourselves in the shoes of a newcomer to the project. Below are some recommended sections, but the manual will likely take a slightly different form for each team."
      ]
    },
    {
      "cell_type": "markdown",
      "metadata": {
        "id": "yfoW16_iACYt",
        "colab_type": "text"
      },
      "source": [
        "## Fabrication Details\n",
        "\n",
        "### Sludge Blanket Detector\n",
        "\n",
        "We used a [CAD](https://raw.githubusercontent.com/AguaClara/sensor_dev/master/Fall%202019/submersibleCAD.png) of the submersible sensor to 3D print the case using clear resin, which is translucent enough for us to collect data and waterproof. Before this, we attempted to use PVC and PVC cement glue to fabricate the sensor, but we were unable to waterproof it because there were too many joints in the [old design](https://raw.githubusercontent.com/AguaClara/sensor_dev/master/Fall%202019/oldsubmersibleprototype.png). That was after the [first prototype](https://github.com/AguaClara/sensor_dev/blob/master/Spring%202019/SensorDev-Spring-2019-Final-Report.md), which was weaker and did not fit the design constraints given to us this semester.\n",
        "\n",
        "\n",
        "### Dissolved Organics Sensor\n",
        "\n",
        "The OnShape drawings for the sample cells used for the [infrared light sensors](https://cad.onshape.com/documents/aa130432e7556607b41fe135/w/07cfc80e4182cd0f3d0bd61f/e/0c3e7c157f121cdd8fb2fe28)  and the [blue light sensors](https://cad.onshape.com/documents/631a7c3e36c4088565efe764/w/25cf07a2cb7f369d6c69d95d/e/752d210293abf875057a7a6a) have the dimensions 2 x 2 x 3.4 inches. The only difference between the two drawings is the house for the light sensor. The RGB sensor has a flat square face whereas the IR sensor is cylindircal, similar to an LED. The holes meant for the sensors were shaped and cut accordingly, as in the drawing linked below. The tops of these sample cells were made to ensure that no outside light enters this apparatus. The drawing to this design can be found [here](https://cad.onshape.com/documents/aa130432e7556607b41fe135/w/07cfc80e4182cd0f3d0bd61f/e/0c3e7c157f121cdd8fb2fe28). These drawings were exported as .STL files and sent to the [Cornell Rapid Prototyping Lab](https://cornellrpl.wixsite.com/cornellrpl) to get 3D prints."
      ]
    },
    {
      "cell_type": "markdown",
      "metadata": {
        "id": "sTvHso03AGO_",
        "colab_type": "text"
      },
      "source": [
        "## Special Components\n",
        "\n",
        " ### Sludge Blanket Detector\n",
        "\n",
        " - The photosensor used was the TEMT6000 Ambient Light Sensor from developer SparkFun. TEMT6000 is a silicon NPN epitaxial planar phototransistor on a printed circuit board. The device is sensitive to wavelengths from 390 nm to 700 nm. It is available [here](https://www.sparkfun.com/products/8688).\n",
        "\n",
        " - Because the code relies on the rate of change of light readings rather than the absolute value of light intensity, the LED used in this detector is open to change. In the Spring 2019 iteration, the LED used was a small white LED running on 3V, however any LED such as those from [here](www.sparkfun.com) would work well.\n",
        "\n",
        " \n",
        " ### Dissolved Organics Sensor\n",
        "\n",
        "- The Arduino Mega 2560 was bought from the distributor Digi-Key. Its part number is [1050-1018-ND](https://www.digikey.com/products/en?keywords=1050-1018-ND).\n",
        "\n",
        "- In order to measure blue light, an RGB sensor was bought from [Adafruit](https://www.adafruit.com/product/1334).\n",
        "[Wiring and Assembly](https://learn.adafruit.com/adafruit-color-sensors/assembly-and-wiring).\n",
        "\n",
        "- The laser diode used is of infrared type with wavelength 850nm. Six models of the lasers were bought from the distributor Digi-Key. These are the part numbers: [365-1877-ND](https://www.digikey.com/products/en?keywords=365-1877-ND), [365-1878-ND](https://www.digikey.com/products/en?keywords=365-1878-ND), [365-1879-ND](https://www.digikey.com/products/en?keywords=365-1879-ND), [365-1880-ND](https://www.digikey.com/products/en?keywords=365-1880-ND), [365-1881-ND](https://www.digikey.com/products/en?keywords=365-1881-ND), and [365-1883-ND](https://www.digikey.com/products/en?keywords=365-1883-ND).\n",
        "\n",
        "- Along with the laser diodes, five infrared sensors were bought from [T.T. Electronics](https://www.ttelectronics.com/). The following table has relevant information regarding these sensors.\n",
        "\n",
        "\n",
        "\n",
        "**Table 1. Details for infrared sensors.**\n",
        "\n",
        "Part number | Description | Datasheet Link\n",
        "------------ | ------------- | -------------\n",
        "OP830SL | Phototransistor, Photodarlington, NPN Silicon, TO-18 Dome Lens | [Datasheet](https://www.ttelectronics.com/TTElectronics/media/ProductFiles/Optoelectronics/Datasheets/OP800_830_SLandWSL.pdf)\n",
        "OP804SL | Op804Sl IR Phototransistor, Through hole 3-pin TO-18 Package | [Datasheet](https://www.ttelectronics.com/TTElectronics/media/ProductFiles/Optoelectronics/Datasheets/OP800_830_SLandWSL.pdf)\n",
        "OP805SL | Sensor, Opto switch assemble, transmissive, single channel; 5.1mm; 30V; 50mA | [Datasheet](https://www.ttelectronics.com/TTElectronics/media/ProductFiles/Optoelectronics/Datasheets/OP800_830_SLandWSL.pdf)\n",
        "OP913WSL | Sensor, Opto switch assemble, transmissive, single channel; 3.8mm; 30V; 20mA | [Datasheet](https://www.ttelectronics.com/TTElectronics/media/ProductFiles/Optoelectronics/Datasheets/OP913.pdf)\n",
        "OP812SL-OC | Photologic TO-18 | [Datasheet](https://www.ttelectronics.com/TTElectronics/media/ProductFiles/Optoelectronics/Datasheets/OPL800.pdf)"
      ]
    }
  ]
}