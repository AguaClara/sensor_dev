{
  "nbformat": 4,
  "nbformat_minor": 0,
  "metadata": {
    "colab": {
      "name": "SensorDev2020Fall_Report2.ipynb",
      "provenance": [],
      "collapsed_sections": []
    },
    "kernelspec": {
      "name": "python3",
      "display_name": "Python 3"
    }
  },
  "cells": [
    {
      "cell_type": "markdown",
      "metadata": {
        "id": "awle31N5ykbr"
      },
      "source": [
        "# Sensor Development, Fall 2020\n",
        "#### Winnie Chan, Payton Hunter, Kaleigh Soucy, Sanjana Uddin\n",
        "#### November 13, 2020\n",
        "\n"
      ]
    },
    {
      "cell_type": "markdown",
      "metadata": {
        "id": "lGzNCdLa1f38"
      },
      "source": [
        "##Abstract\n",
        "\n",
        "Sensor Development's goal is to develop affordable sensors with readily available materials to monitor and report water quality in the water treatment processes in AguaClara plants and labs. In Fall 2020, the subteam will continue working on two projects from Spring 2020 - a submersible detector and low cost turbidimeter."
      ]
    },
    {
      "cell_type": "markdown",
      "metadata": {
        "id": "TpShT1NO1jsq"
      },
      "source": [
        "## Introduction\n",
        "\n",
        "The Sensor Development subteam aims to create affordable sensors that monitor and report water quality in AguaClara plants. While turbidimeters exist in the market, they often cost upwards of $2000 USD and can be difficult to operate. This subteam strives to create alternative turbidimeters which are affordable and user-friendly sensors with readily available and replaceable parts. With the goal to streamline the measurement process, Sensor Development ensures that the low-cost turbidimeter is not only user-friendly but also accurate. These sensors quantify the effectiveness of the treatment process by measuring the turbidity of the water at different stages of the treatment process.\n",
        "The subteam started researching and designing a prototype of the Sludge Judge Sampler, which determines the height of the sludge blanket. The ultimate goal for this tool was to provide the plant operators with a cost-efficient and simple way to determine the height of the sludge blanket inside the floc hopper, in order for them to more accurately gauge when the floc hopper should be emptied. Previously, the subteam consider utilizing a submersible sensor to detect the sludge blanket height; however, a sludge judge critically reduces the need to waterproof a sensor and would be less complex for plant operators.\n",
        "The subteam also started conducting tests with the low cost turbidity meter for dissolved organics. This particular turbidimeter is different from the team’s past projects, as it would measure both reflectance and absorbance of the light passing through the water sample by measuring light received directly across and at 90° from the light source. This results in a more accurate analysis of water purity, as it accounts for the absorbance of light. The primary use of this sensor will be to measure the amount of dissolved organics in the water - simply measuring turbidity wouldn’t suffice as dissolved organic matter is not always visible.\n"
      ]
    },
    {
      "cell_type": "markdown",
      "metadata": {
        "id": "4gfgHIlZ2Evd"
      },
      "source": [
        "## Literature Review\n",
        "\n",
        "The subteam will continue work from the Spring 2020 semester on a low cost turbidimeter that combines an infrared sensor and a RGB sensor for dissolved organics. The sensors measure light directly absorbed across and at 90° from the light source. A study in 2014 by Sampedro and Salgueiro determined that this method of impurity detection more accurately measures small turbidity. The backscattering of reflected light versus the light that passes in between dissolved particles precisely accounts for liquids of varying turbidites. It is important to note from a study conducted on turbidimeters that high turbidity water can not be as accurately measured due to increase in multiple scattering. This multiple scattering means that one light beam is reflected off of two or more particles. This is a challenge that will be approached through experimentation with various concentrations of dissolved organics. The Sampedro and Salgueiro study also showed that an RGB sensor can be used to identify the dissolved particles, allowing for improved performance on colored samples and effective water treatment for many dissolved organic types.\n",
        "\n",
        "The subteam will also begin in depth research on a method to detect the height of the floc blanket in the floc hopper when it becomes saturated. The goal for this project is to research a cost-efficient and modified sludge judge that measures the settleable solids, or the sludge blanket. A patented sludge judge is priced around $200-300 USD market value; therefore, the ultimate goal is to produce a customized version of the sludge judge tailored to the AguaClara plants. This device is critical for determining the rate at which the sludge blanket is rising and contributes to the larger benefit of more efficient plant operation."
      ]
    },
    {
      "cell_type": "markdown",
      "metadata": {
        "id": "fHwc_BBAc5h0"
      },
      "source": [
        "## Previous Work\n",
        "\n",
        "During the last semester, the main goal of the sensor development team was to do research on an affordable, open-source turbidimeter. Turbidimeters are crucial to safe-water technology as they measure the cloudiness of a fluid medium - water. Initially, the subteam began working on a prototype of a low cost turbidity meter for dissolved organics. This project has two main parts - the infrared turbidity meter and the 450nm sensor. This project has been modified, where the original plan was to use an ultraviolet 254nm light sensor. Switching to the 450nm light made this project more economical, as the apparatus required for the UV light sources is more expensive. The team further improved on the project by creating a case using a 3D printer **in** which the sampled dissolved organics will be held while being read by the sensor. Our team will continue this project by constructing the IR sensor and doing tests with varied concentrations of dissolved organics. \n",
        "\n",
        "The subteam also started with testing a prototype of the Submersible Microcontroller-Interfaced Analog sensor, which determines the height of the sludge blanket. The ultimate goal for this sensor was to provide the plant operators with a cost-efficient and simple way to determine the height of the sludge blanket inside the floc hopper. This is critical to maximize efficiency as instead of guessing when to empty the floc hopper, plant operators can use this sensor to determine the height of the sludge blanket and only empty it when needed. The issue that arose from this was how to physically implement the sensor into the floc hopper. Thus, three main objectives arose: designing an independent system for the sensor to reduce set up time, determining the most efficient way to insert the sensor into the floc hopper, and setting a threshold for critical moments of operation. With more research, the team concluded that creating this sensor would not be optimal and began looking for another solution. They determined that a straight line pipe could be inserted into the floc hopper and function as a sludge judge. We will continue to research the pros and cons of implementing a sludge judge, and the overall design of the material in creating a substitute that fits our needs more effectively. \n"
      ]
    },
    {
      "cell_type": "markdown",
      "metadata": {
        "id": "6TTRaSKxtuyw"
      },
      "source": [
        "##Methods\n",
        "\n",
        "###Dissolved Organics Sensor\n",
        "The Dissolved Organics sensor is in the set-up/experimental phase. Our current goal is to measure both the light scattered and the light transmitted when shining a light source onto a sample fluid: water with varying concentrations of clay. We will place a sensor 90° from the light source and a sensor directly across the light source in order to do this. Based on the readings of the light scattered and light transmitted, we hope to plot a linear model of the intensity of light versus the previously measured turbidity of the sample fluids to determine a relationship. Our apparatus includes an arduino board with circuits to house both the light source and the sensors, as shown below on the completed circuit. To the right is the 3D printed sample cell box made for holding the vial containing the sample fluid, with intricate punctures on each side of the box specially designed for the placement of the light source and the sensor. \n",
        "\n",
        "![](https://github.com/AguaClara/sensor_dev/blob/master/Fall%202020/Sensor%20Circuit.jpg?raw=true)\n",
        "\n",
        "**Figure 1:** Completed sensor circuit on the arduino board\n",
        "\n",
        "Two sample cell boxes were created in order to house two different sensors, the RGB sensor and the IR sensor. Based on the rounded, cylindrical top of the IR sensor, the punctures reflecting a circular hole in the sample cell box is made specifically for the IR sensor. Based on the square, flat top of the RGB sensor, the punctures reflecting a square indent in the sample cell box is made specifically for the RGB sensor. The OnShape drawings printed for the sample cell boxes used for the [infrared light sensors](https://cad.onshape.com/documents/aa130432e7556607b41fe135/w/07cfc80e4182cd0f3d0bd61f/e/0c3e7c157f121cdd8fb2fe28) and the [blue light sensors](https://cad.onshape.com/documents/631a7c3e36c4088565efe764/w/25cf07a2cb7f369d6c69d95d/e/752d210293abf875057a7a6a) have the dimensions 5.1 x 5.1 x 7.5 c.m, made to perfectly hold the vial containing the fluid sample. \n",
        "\n",
        "![](https://raw.githubusercontent.com/AguaClara/sensor_dev/master/Fall%202019/SampleCellImages.png)\n",
        "\n",
        "**Figure 2:** Housing for the sample-cell turbidity meter, with space for light sources and sensors on sides. left to right: cover to enclose the light source, sensor, and sample fluid as to not be tainted by outside light source, sample cell box made to house the IR sensor,  sample cell box made to house the RGB sensor.\n",
        "\n",
        "With the completed circuit connected to the sample cell box, and a laptop connected to the arduino, one will obtain the analogRead() values, which can be plotted and assessed with respect to the turbidity of the varying concentrations of clay in water. \n",
        "\n",
        "\n",
        "[Code](https://github.com/AguaClara/sensor_dev/blob/master/Spring%202020/sketch_nov07c.ino) used to measure the light scattered and the light transmitted through the sample fluid using the IR sensor. \n",
        "\n",
        "###Sludge Judge\n",
        "The sludge judge tool is currently in the development phase, where research and a preliminary model are the main priority. Here is the [Onshape drawing](https://cad.onshape.com/documents/7178d4c908b3988dbc79c585/w/537b7145b1e03f4ed32a2db2/e/c5081896ac87d8c198851890) for the first basic model of the Sludge Judge. It features a long tube which will be multiple sections in order to accommodate the various different plant sizes. Additionally, the end of the tube is conical-shaped to render the sludge blanket undisturbed when it is inserted and also to incorporate a valve.\n",
        "\n",
        "![](https://github.com/AguaClara/sensor_dev/blob/master/Fall%202020/Sludge%20Judge%20Model%20Design.PNG?raw=true)\n",
        "**Figure 3:** Preliminary Sludge Judge Onshape Model\n",
        "\n",
        "\n",
        "#####Procedure:\n",
        "To evaluate potential valve designs, the Sensor Development team considered a check valve, a floating plug, and a rubber folding plug to trap the water and sludge being measured. These different designs will be tested through researching their viability with the slanted shape of the floc hopper as well as considering the cost efficiency and likeliness of successfully trapping the liquid. Example images of such valves and plugs are picture below.\n",
        "\n",
        "\n",
        "![](https://www.zoro.com/static/cms/product/full/Z60Mxxfo5oy.JPG)\n",
        "\n",
        "**Figure 4:** Example of rubber folding plug\n",
        "\n",
        "\n",
        "![](https://pimcore.tameson.com/Articles/general/spring-loaded-check-valve.png)\n",
        "\n",
        "**Figure 5:** Example of a check valve\n",
        "\n",
        "\n",
        "![](https://lh3.googleusercontent.com/proxy/Rthn1vwPwyJERCWDl5wEc7CXCiinVxvgxvXwHcgHlzNKxfTHvYSso_D4WxMkD7KSlvQJoUx3PXLOWMfcjYr9e2BXaBLu1uAuHBkPhBfgzq0i-U4cRMjnYpizbmeD41S4_yNx_LCk_M8u0emZXF_cOeVHN4gO9Aw)\n",
        "\n",
        "**Figure 6:** Example of a free floating ball plug"
      ]
    },
    {
      "cell_type": "markdown",
      "metadata": {
        "id": "V4AuHoA3uWR_"
      },
      "source": [
        "##Results and Analysis\n",
        "\n",
        "###Dissovled Organics Sensor\n",
        "The data collected through the Arduino software was produced by the intensity of light recorded from the blue light LED to the IR sensor, then from an IR laser. These results were fairly inconsistent with how we hypothesized the collected data to trend. In the tests, we used mediums of air and water with a 1000 mg/L concentration of kaolin clay. Through both of these sets of tests, there was little to no regularity in the data collected and the main differences recorded were between the RGB and IR laser data sets.\n",
        "\n",
        "![](https://github.com/AguaClara/sensor_dev/blob/master/Fall%202020/500mgLBlue.JPG?raw=true)\n",
        "**Figure 7:** Data collected from blue LED through air\n",
        "\n",
        "Results from the blue LED tests were inconclusive due to the large error connected to how the test were conducted. When using the LED there was data collected from the Arduino setup for scattered and transmitted light, while in theory and due to the restrictions of our setup there should have been zero transmitted data recorded. The recordings for the scattered light showed a sharp peak in the few milliseconds at the start of the test and after taking longer interval tests we found that the intensity of light recorded leveled out. Part of the error contributing to why the data collected could be faulty is that the casing that we used for our IR sensor is not completely opaque. This could have possibly \"leaked\" excess light into our test area that interfered with the sensor's recording capabilities . \n",
        "\n",
        "![](https://github.com/AguaClara/sensor_dev/blob/master/Fall%202020/1000mgLIR.JPG?raw=true)\n",
        "**Figure 8:** Plot of IR Laser data through 1000 mg/L Solution\n",
        "\n",
        "The tests using the IR laser actually showed no recorded scattered light through a 1000 mg/L sample. However, there was still a recorded intensity plot for transmitted light that we decided to disregard because of our intial restrictions to only collect scattered light data. The absense of scattered light data in these tests led us to the conclusion that our Arduino board setup might be faulty, and data is likely not being transmitted to the ports we thought they were. There could also be defects with the IR laser or sensor we used for these data sets due to the storage condidtions they were kept in. If this is so, most of the data collected in these tests is expected to be reliable in the further development of our team's dissolved organics sensor.  \n",
        "###Sludge Judge\n",
        "The potential valve designs considered were a check valve, a floating plug, and a rubber folding plug. A check valve, or a non-return valve, is a valve that only allows fluids to flow through in one direction . In this case, it would only allow the sludge and water to flow into the tube and prevent it from exiting the device. There are many different types of check valves: ball, diaphragm, and swing/tilting disk. Ball check valves are very common and can be made very small for very cheap. A free floating ball (usually metal but can be made of all kinds of material) is used to allow and block the flow of fluids, and a spring or reverse flow is used to keep the valve shut. The downside to using ball check valves is that they wear out or the ball can crack components given enough pressure, requiring replacement. \n",
        "\n",
        "![](https://graywolfsurvival.com/wp-content/uploads/2013/11/How-a-Check-Valve-Works.jpg)\n",
        "\n",
        "**Figure 9:** How a check valve work diagram\n",
        "\n",
        "A diaphragm check valve uses a flexible rubber diaphragm to allow and block the flow of fluids. This type of check valve requires the presence of a pressure differential, where the pressure of the upstream side must be greater than the pressure of the downstream side. With this positive pressure differential, the diaphragm flexes and allows fluids in. Once the positive pressure stops, the diaphragm flexes to its original flat position and stops fluids from entering.\n",
        "\n",
        "![](https://www.industrialspec.com/images/editor/1701-diaphragm-check-valve-working-states-at-rest-full-flow-closed.jpg)\n",
        "\n",
        "**Figure 10:** Typical diaphragm check valve\n",
        "\n",
        "Swing/tilting disk check valves allow and block the flow of fluids with a swinging disk on a hinge. When fluid flows in the favorable direction, the disk is hinged away from the opening to allow the fluid in. When fluid flows in the opposite direction, the disk reverts swings to close the opening, preventing fluid from entering. A common issue caused by this type of valve is water hammer, when the swing check closes, suddenly stops flow, and causes shock waves that can rupture pipes.\n",
        "\n",
        "![](https://i1.wp.com/www.theprocesspiping.com/wp-content/uploads/2020/04/check-valve-working.png?w=387&ssl=1)\n",
        "\n",
        "**Figure 11:** How a Swing/ tilting disk check valve works\n",
        "\n",
        "The floating plug is a very simple and common method used in commercial sludge judge units. It consists of a handle, string, and floating plug. Once the desired sample is collected, the operator can pull on the string using the handle, bringing the floating plug up and stopping flow of liquid. Over time, the string may become weak and snap or the plug may crack, requiring replacement.\n",
        "\n",
        "![](https://lh3.googleusercontent.com/proxy/Rthn1vwPwyJERCWDl5wEc7CXCiinVxvgxvXwHcgHlzNKxfTHvYSso_D4WxMkD7KSlvQJoUx3PXLOWMfcjYr9e2BXaBLu1uAuHBkPhBfgzq0i-U4cRMjnYpizbmeD41S4_yNx_LCk_M8u0emZXF_cOeVHN4gO9Aw)\n",
        "\n",
        "**Figure 12:** Example of a free floating ball plug\n",
        "\n",
        "The rubber folding plug is another simple method that can be used to allow and block the flow of fluids. It consists of a flexible rubber sheet shaped as a cone connected to a straight wire or plastic stick. Once the desired sample is collected, the operator pulls the wire or stick up, causing the cone to fold over the opening at the bottom of the device, effectively stopping flow. This method may not be ideal, as the user would need to be careful of the cone folding over prematurely. \n",
        "\n",
        "![](https://www.zoro.com/static/cms/product/full/Z60Mxxfo5oy.JPG)\n",
        "\n",
        "**Figure 13:** Example of rubber folding plug"
      ]
    },
    {
      "cell_type": "markdown",
      "metadata": {
        "id": "mpfsp0m_uldG"
      },
      "source": [
        "##Conclusion\n",
        "\n",
        "###Dissolved Organics Sensor\n",
        "Based on the inaccuracy of the collected data for scattered light, we considered a few possible sources of error to test. It is possible that the infrared sensor that is being used is hyper sensitive to any light that is entering the casing through the one unfilled hole covered with masking tape. Additionally, the casing is a light cream color which is not completely opaque and could be altering the way light is absorbed or scattered. Another possible source of error is the settling of material in the solutions used for testing. If the samples are allowed to sit long after being shaken then the dissolved material could settle at the bottom and therefore produce a consistently low scattered light value. Another variable that is important to consider is how the steadiness of the connections with the light bulb and sensor affects the reading as we have had issues with sustaining an active connection between each of the components. A final issue to consider is that we primarily tested the liquid with only one IR sensor; however, a second IR sensor should be incorporated to get a full reading of the water’s turbidity. These developments are important to AguaClara’s progress in the two sensor turbidimeter because the infrared sensor currently being tested will supplement the RGB sensor tremendously in more completely detecting the quantity of dissolved organics in the water.\n",
        "\n",
        "###Sludge Judge\n",
        "With regards to the development of the sludge judge valve, we think that the most important consideration in choosing the valve design will be ease of operation and also the valve's reliability in containing the liquid for long enough to take the measurement. For example, the floating plug on a string would be simple to operate; however, the operator would have to ensure that the string is completely pulled and remains so long enough to take measurements. This procedure is risky while lifting the sludge judge out of the floc hopper to measure the sludge height. These developments are large steps towards finalizing a model for a sludge judge that will make AguaClara’s floc hopper cleanings more efficient and make the plant operators’ jobs easier."
      ]
    },
    {
      "cell_type": "markdown",
      "metadata": {
        "id": "oBDQHkg5uxUh"
      },
      "source": [
        "##Future Work\n",
        "\n",
        "###Dissolved Organics Sensor\n",
        "As we are at the beginning stages of testing the IR sensor, we will continue to run experiments with varied concentrations of clay samples and analyze the readings we get in regards to the light transmitted and the light scattered. We plan on doing this while improving our overall design for more effective readings, as we had many errors within our original experiment. We will change our design by placing two IR sensors, one 90° away from and one directly across from the light source. Furthemore, we will have the light source be within the infrared range by using LED lasers, as we originally tested the sensor using a blue light. We hope these changes will provide a more accurate measurement as the IR sensor was made to read IR light. Furthemore, we will play around with the concentration samples, comparing the measurement of light scattered when the clay is completely settled versus when the clay has been mixed immediately before being placed in the sample cell box. We predict to get a measurement of close to 0 V when the clay has settled, and hope to get a higher value when the sample is mixed. Another change we want to assess in the reading of the sensor is if we eliminated all outside light sources (room light). We would like to see the effect, if any, on the values found, allowing us to recognize if the sensor is not solely picking up the light projected by the LED laser. Lastly, with the results of the previous experiment regarding outside light source, if there is a change in the measurement as we keep all other variables constant, we would like to prepare a new sample cell box that is completely black to eliminate any light from entering. \n",
        "\n",
        "\n",
        "This project is in it’s most crucial stage as we are progressing in our original goal through experimentation and analysis. This is the point where creativity and innovation is able to be welcomed in our team with the questioning of the process, altering small details of the design, and obtaining a deeper understanding of our results. Thus, the project should be continued as it could be a huge economical improvement to how we measure the clarity of water, while being able to eliminate the constraints of current measurement tools such as the turbidimeter, which does not always accurately detect dissolved organics within a fluid.  \n",
        "\n",
        "###Sludge Judge\n",
        "We will continue to pursue research on the sludge judge in order to determine the most viable valve design. We hope to transfer this research into preliminary designs of the sludge judge containing the valve, utilizing OnShape to compose a check valve, a floating plug, and a rubber folding plug. We are curious to see how it would interact with the already existing design of the sludge judge and thus hope to have a greater understanding of the necessary dimensions for the valve, and how successful each version would be given such restraints. \n",
        "\n",
        "Although in the early stages of this project, the sludge judge has the potential of being a huge improvement to the process of emptying out the floc hopper. As of now, it is difficult for plant operators to track water quality inside the sedimentation tanks, especially to see the level of the sludge blanket in the tank, so that they can time tank cleanings. The sludge judge is the best solution, as it notifies operators when it is necessary to empty the floc hopper based on its measured reading of the sludge blanket height. While a modern sludge judge is present in today’s market, they are too expensive and aren’t suited for the AguaClara plant conditions, which is why the team is developing a sludge judge to perform this task at a lower cost and with the design constraints of the plant itself. Thus, the current project of the sludge judge is vital to the AguaClara team as it would optimize an important aspect of the water-treatment process. "
      ]
    },
    {
      "cell_type": "markdown",
      "metadata": {
        "id": "ZXUik5SH-YFM"
      },
      "source": [
        "## Bibliography\n",
        "Bernaber, S., Kapoor, S., Zaparde, R., (2020, March). Spring 2020 Manual. Retrieved from:\n",
        "https://github.com/AguaClara/sensor_dev/blob/master/Spring%202020/SensorDev2020Spring.ipynb\n",
        "\n",
        "Sampedro, Ó., & Salgueiro, J. R. (2015). Turbidimeter and RGB sensor for remote measurements in an aquatic medium. Measurement, 68, 128–134. https://doi.org/10.1016/j.measurement.2015.02.049\n",
        "\n",
        "Sensors-14-07142. (n.d.). Google Docs. Retrieved October 10, 2020, from https://docs.google.com/document/u/1/d/19Scn5IDm2yE5XtvTvPaLCKQRPbcqFGzKyHrH_cnZHqM/edit?usp=drive_web&ouid=102393465565736431293&usp=embed_facebook"
      ]
    },
    {
      "cell_type": "markdown",
      "metadata": {
        "id": "89B_UcUHvES4"
      },
      "source": [
        "# Manual\n",
        "The goal of this section is to provide all of the guidance that would be necessary for a future team to pick up your work where you left off. Please try to be thorough and put yourselves in the shoes of a newcomer to the project. Below are some recommended sections, but the manual will likely take a slightly different form for each team."
      ]
    },
    {
      "cell_type": "markdown",
      "metadata": {
        "id": "TGpLkLwWLLLv"
      },
      "source": [
        "###Dissolve Organics Sensor\n",
        "  * Goal: To find a relationship between the sensor output and the turbidity in NTU.\n",
        "  * Turbidity Measurement Experiment \n",
        "    * Make samples of 0 mg/L, 25 mg/L, 60 mg/L, 250 mg/L, 1000 mg/L of Kaolin clay with varied volumes of water found in the AguaClara lab as a substitute of “dissolved organics.”\n",
        "    * Turbidity meter must be calibrated prior to use to ensure that baseline turbidity is consistent for comparison\n",
        "    * Measure the turbidity (NTU) of the samples using a turbidity meter. These values will be used to figure out the relationship between the sensor output and NTU.\n",
        "\n",
        "* IR Sensor Setup \n",
        "  * Set up the circuits for the infrared LED light source and 2 infrared sensors [OP804SL](https://www.ttelectronics.com/TTElectronics/media/ProductFiles/Optoelectronics/Datasheets/OP800_830_SLandWSL.pdf) as shown below:\n",
        "\n",
        "\n",
        "![](https://raw.githubusercontent.com/AguaClara/sensor_dev/master/Fall%202019/LEDCircuit.png)\n",
        "\n",
        "Figure: LED Circuit\n",
        "\n",
        "![](https://raw.githubusercontent.com/AguaClara/sensor_dev/master/Fall%202019/PhototransistorDiagram.png)\n",
        "\n",
        "Figure: NPN Phototransistor for sensing infrared light.\n",
        "\n",
        "\n",
        "**Table 1. Details for infrared sensors.**\n",
        "\n",
        "Part number | Description | Datasheet Link\n",
        "------------ | ------------- | -------------\n",
        "OP830SL | Phototransistor, Photodarlington, NPN Silicon, TO-18 Dome Lens | [Datasheet](https://www.ttelectronics.com/TTElectronics/media/ProductFiles/Optoelectronics/Datasheets/OP800_830_SLandWSL.pdf)\n",
        "OP804SL | Op804Sl IR Phototransistor, Through hole 3-pin TO-18 Package | [Datasheet](https://www.ttelectronics.com/TTElectronics/media/ProductFiles/Optoelectronics/Datasheets/OP800_830_SLandWSL.pdf)\n",
        "OP805SL | Sensor, Opto switch assemble, transmissive, single channel; 5.1mm; 30V; 50mA | [Datasheet](https://www.ttelectronics.com/TTElectronics/media/ProductFiles/Optoelectronics/Datasheets/OP800_830_SLandWSL.pdf)\n",
        "OP913WSL | Sensor, Opto switch assemble, transmissive, single channel; 3.8mm; 30V; 20mA | [Datasheet](https://www.ttelectronics.com/TTElectronics/media/ProductFiles/Optoelectronics/Datasheets/OP913.pdf)\n",
        "OP812SL-OC | Photologic TO-18 | [Datasheet](https://www.ttelectronics.com/TTElectronics/media/ProductFiles/Optoelectronics/Datasheets/OPL800.pdf)\n",
        "\n",
        "  * Insert the IR LED light source and IR sensors in the 3D printed casing, specifically in the indented holes on the surface of each side of the 3D casing\n",
        "    * One sensor should be directly across and one should be at a right angle from the infrared LED light source.\n",
        "    * This is to measure transmitted and scattered light respectively.\n",
        "    * Download arduino software onto laptop and formulate a [code](https://github.com/AguaClara/sensor_dev/blob/master/Spring%202020/sketch_nov07c.ino) to measure the light transmitted and light scattered from the circuit \n",
        "  * IR Sensor Procedure\n",
        "    * Shake the vial containing the sample fluid lightly before inserting it into the casing to ensure uniformity of the concentration and avoid settling.\n",
        "    * Run arduino code with 10 iterations \n",
        "      * We will run the code with 10 iterations to wait for the IR sensor reading to stabilize and also eliminate outlier results derived from the settling of the dissolved clay. This would taint results with a decrease in scattered light and an increase in transmitted light. \n",
        "      * Make sure that the orientation of the vial and the casing is consistent for all trials.\n",
        "     * Line up the markings on the vial's lid and the top of the casing.\n",
        "* Take the average of the first ten values of the IR sensors in a spreadsheet and repeat with every fluid sample.\n",
        "\n",
        "### Sludge Judge\n",
        "* Goal: Determine the height of the sludge blanket\n",
        "\n",
        "* Fabrication Details:\n",
        "  * The [Onshape drawing](https://cad.onshape.com/documents/7178d4c908b3988dbc79c585/w/537b7145b1e03f4ed32a2db2/e/c5081896ac87d8c198851890) of the sludge judge is done with similar dimensions to a standard commercial sludge judge sampler with a diameter of 0.020 m or 20 cm; however; for visual purposes the tube is only 0.5 m long, which would be scaled up to a larger value to around 2 meters for an actual sludge judge.\n",
        "\n",
        "* Research:\n",
        "  * Consider different check valve and alternatives to plug the end of the tube for measurement \n",
        "  * Determine specific parameters for tube diameter\n",
        "  * Identify the method of inserting the tube into the floc hopper\n",
        "* Special Components:\n",
        "  * Utilize Onshape and AutoCAD to design a model sludge judge to eventually construct through either 3D printing or with material tubing and materials in the lab\n",
        "\n"
      ]
    }
  ]
}