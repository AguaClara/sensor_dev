{
  "nbformat": 4,
  "nbformat_minor": 0,
  "metadata": {
    "colab": {
      "name": "SensorDev2020Fall_Report1.ipynb",
      "provenance": [],
      "collapsed_sections": []
    },
    "kernelspec": {
      "name": "python3",
      "display_name": "Python 3"
    }
  },
  "cells": [
    {
      "cell_type": "markdown",
      "metadata": {
        "id": "awle31N5ykbr"
      },
      "source": [
        "# Sensor Development, Fall 2020\n",
        "#### Winnie Chan, Payton Hunter, Kaleigh Soucy, Sanjana Uddin\n",
        "#### October 10, 2020\n",
        "\n"
      ]
    },
    {
      "cell_type": "markdown",
      "metadata": {
        "id": "lGzNCdLa1f38"
      },
      "source": [
        "##Abstract\n",
        "\n",
        "Sensor Development's goal is to develop affordable sensors with readily available materials to monitor and report water quality in the water treatment processes in AguaClara plants and labs. In Fall 2020, the subteam will continue working on two projects from Spring 2020 - a submersible detector and low cost turbidimeter"
      ]
    },
    {
      "cell_type": "markdown",
      "metadata": {
        "id": "TpShT1NO1jsq"
      },
      "source": [
        "## Introduction\n",
        "\n",
        "The Sensor Development subteam aims to create affordable sensors that monitor and report water quality in AguaClara plants. While turbidimeters exist in the market, they often cost upwards of $2000 USD and can be difficult to operate. This subteam strives to create alternative turbidimeters which are affordable and user-friendly sensors with readily available and replaceable parts. With the goal to streamline the measurement process, Sensor Development ensures that the low-cost turbidimeter is not only user-friendly but also accurate. These sensors quantify the effectiveness of the treatment process by measuring the turbidity of the water at different stages of the treatment process.\n",
        "The subteam started testing a prototype of the Submersible Microcontroller-Interfaced Analog sensor, which determines the height of the sludge blanket. The ultimate goal for this sensor was to provide the plant operators with a cost-efficient and simple way to determine the height of the sludge blanket inside the floc hopper. This is critical to maximize efficiency instead of guessing when to empty the floc hopper, plant operators can use this sensor to determine the height of the sludge blanket and only empty it when needed, which contributes to improving plant efficiency.\n",
        "The subteam also started conducting tests with the low cost turbidity meter for dissolved organics. This particular turbidimeter is different from the team’s past projects, as it would measure both reflectance and absorbance of the light passing through the water sample by measuring light received directly across and at 90° from the light source. This results in a more accurate analysis of water purity, as it accounts for the absorbance of light. The primary use of this sensor will be to measure the amount of dissolved organics in the water - simply measuring turbidity wouldn’t suffice as dissolved organic matter is not always visible.\n"
      ]
    },
    {
      "cell_type": "markdown",
      "metadata": {
        "id": "4gfgHIlZ2Evd"
      },
      "source": [
        "## Literature Review\n",
        "\n",
        "The subteam will continue work from the Spring 2020 semester on a low cost turbidimeter that combines an infrared sensor and a RGB sensor for dissolved organics. The sensors measure light directly absorbed across and at 90° from the light source. A study in 2014 by Sampedro and Salgueiro determined that this method of impurity detection more accurately measures small turbidity. The backscattering of reflected light versus the light that passes in between dissolved particles precisely accounts for liquids of varying turbidites. It is important to note from a study conducted on turbidimeters that high turbidity water can not be as accurately measured due to increase in multiple scattering. This multiple scattering means that one light beam is reflected off of two or more particles. This is a challenge that will be approached through experimentation with various concentrations of dissolved organics. The Sampedro and Salgueiro study also showed that an RGB sensor can be used to identify the dissolved particles, allowing for improved performance on colored samples and effective water treatment for many dissolved organic types.\n",
        "\n",
        "The subteam will also begin in depth research on a method to detect the height of the floc blanket in the floc hopper when it becomes saturated. The goal for this project is to research a cost-efficient and modified sludge judge that measures the settleable solids, or the sludge blanket. A patented sludge judge is priced around $200-$300 market value; therefore, the ultimate goal is to produce a customized version of the sludge judge tailored to the AguaClara plants. This device is critical for determining the rate at which the sludge blanket is rising and contributes to the larger benefit of more efficient plant operation."
      ]
    },
    {
      "cell_type": "markdown",
      "metadata": {
        "id": "fHwc_BBAc5h0"
      },
      "source": [
        "## Previous Work\n",
        "\n",
        "During the last semester, the main goal of the sensor development team was to do research on an affordable, open-source turbidimeter. Turbidimeters are crucial to safe-water technology as they measure the cloudiness of a fluid medium- water. Initially, the subteam began working on a prototype of a low cost turbidity meter for dissolved organics. This project has two main parts - the infrared turbidity meter and the 450nm sensor. This project has been modified, where the original plan was to use an ultraviolet 254nm light sensor. Switching to the 450nm light made this project more economical, as the apparatus required for the UV light sources is more expensive. The team further improved on the project by creating a case using a 3D printer for which the sampled dissolved organics will be held while being read by the sensor. Our team will continue this project by constructing the IR sensor and doing tests with varied concentrations of dissolved organics. \n",
        "\n",
        "The subteam also started with testing a prototype of the Submersible Microcontroller-Interfaced Analog sensor, which determines the height of the sludge blanket. The ultimate goal for this sensor was to provide the plant operators with a cost-efficient and simple way to determine the height of the sludge blanket inside the floc hopper. This is critical to maximize efficiency as instead of guessing when to empty the floc hopper, plant operators can use this sensor to determine the height of the sludge blanket and only empty it when needed. The issue that arose from this was how to physically implement the sensor into the floc hopper. Thus, three main objectives arose: designing an independent system for the sensor to reduce set up time, determining the most efficient way to insert the sensor into the floc hopper, and setting a threshold for critical moments of operation. With more research, the team concluded that creating this sensor would not be optimal and began looking for another solution. They determined that to be a “sludge judge,” a straight line pipe that could be inserted into the floc hopper. We will continue to research the pros and cons of implementing a sludge judge, and the overall design of the material in creating a substitute that fits our needs more effectively. \n"
      ]
    },
    {
      "cell_type": "markdown",
      "metadata": {
        "id": "ZXUik5SH-YFM"
      },
      "source": [
        "## Bibliography\n",
        "Bernaber, S., Kapoor, S., Zaparde, R., (2020, March). Spring 2020 Manual. Retrieved from:\n",
        "https://github.com/AguaClara/sensor_dev/blob/master/Spring%202020/SensorDev2020Spring.ipynb\n",
        "\n",
        "Sampedro, Ó., & Salgueiro, J. R. (2015). Turbidimeter and RGB sensor for remote measurements in an aquatic medium. Measurement, 68, 128–134. https://doi.org/10.1016/j.measurement.2015.02.049\n",
        "\n",
        "Sensors-14-07142. (n.d.). Google Docs. Retrieved October 10, 2020, from https://docs.google.com/document/u/1/d/19Scn5IDm2yE5XtvTvPaLCKQRPbcqFGzKyHrH_cnZHqM/edit?usp=drive_web&ouid=102393465565736431293&usp=embed_facebook"
      ]
    }
  ]
}